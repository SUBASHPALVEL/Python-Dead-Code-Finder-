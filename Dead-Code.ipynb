{
 "cells": [
  {
   "cell_type": "markdown",
   "id": "56b0ee4d",
   "metadata": {},
   "source": [
    "# Find Unused Python Code With Ease\n"
   ]
  },
  {
   "cell_type": "code",
   "execution_count": 1,
   "id": "629d9400",
   "metadata": {
    "ExecuteTime": {
     "end_time": "2022-12-01T19:00:08.797679Z",
     "start_time": "2022-12-01T19:00:05.397007Z"
    }
   },
   "outputs": [
    {
     "name": "stdout",
     "output_type": "stream",
     "text": [
      "Defaulting to user installation because normal site-packages is not writeable\n",
      "Collecting vulture\n",
      "  Downloading vulture-2.7-py2.py3-none-any.whl (27 kB)\n",
      "Collecting toml\n",
      "  Downloading toml-0.10.2-py2.py3-none-any.whl (16 kB)\n",
      "Installing collected packages: toml, vulture\n",
      "Successfully installed toml-0.10.2 vulture-2.7\n"
     ]
    }
   ],
   "source": [
    "!pip install vulture"
   ]
  },
  {
   "cell_type": "code",
   "execution_count": 2,
   "id": "62efe508",
   "metadata": {
    "ExecuteTime": {
     "end_time": "2022-12-01T19:00:12.861067Z",
     "start_time": "2022-12-01T19:00:12.849850Z"
    }
   },
   "outputs": [],
   "source": [
    "import dead_code"
   ]
  },
  {
   "cell_type": "code",
   "execution_count": 3,
   "id": "858be537",
   "metadata": {
    "ExecuteTime": {
     "end_time": "2022-12-01T19:00:22.895637Z",
     "start_time": "2022-12-01T19:00:22.632254Z"
    }
   },
   "outputs": [
    {
     "name": "stdout",
     "output_type": "stream",
     "text": [
      "dead_code.py:1: unused function 'sum_func' (60% confidence)\n",
      "dead_code.py:4: unused function 'max_func' (60% confidence)\n",
      "dead_code.py:9: unused variable 'flag' (60% confidence)\n"
     ]
    }
   ],
   "source": [
    "!vulture dead_code.py"
   ]
  },
  {
   "cell_type": "code",
   "execution_count": null,
   "id": "3181bde9",
   "metadata": {},
   "outputs": [],
   "source": []
  }
 ],
 "metadata": {
  "kernelspec": {
   "display_name": "Python 3 (Intel® oneAPI 2023.0)",
   "language": "python",
   "name": "c009-intel_distribution_of_python_3_oneapi-beta05-python"
  },
  "language_info": {
   "codemirror_mode": {
    "name": "ipython",
    "version": 3
   },
   "file_extension": ".py",
   "mimetype": "text/x-python",
   "name": "python",
   "nbconvert_exporter": "python",
   "pygments_lexer": "ipython3",
   "version": "3.9.15"
  }
 },
 "nbformat": 4,
 "nbformat_minor": 5
}
